{
 "cells": [
  {
   "cell_type": "code",
   "execution_count": 6,
   "metadata": {},
   "outputs": [
    {
     "ename": "IllegalMoveError",
     "evalue": "illegal san: 'Nxc7' in 6b1/7p/6p1/R2rkp2/4p3/1N5P/1P3PP1/6K1 w - - 7 30",
     "output_type": "error",
     "traceback": [
      "\u001b[0;31m---------------------------------------------------------------------------\u001b[0m",
      "\u001b[0;31mIllegalMoveError\u001b[0m                          Traceback (most recent call last)",
      "Cell \u001b[0;32mIn[6], line 57\u001b[0m\n\u001b[1;32m     55\u001b[0m         \u001b[39mif\u001b[39;00m move[\u001b[39m-\u001b[39m\u001b[39m1\u001b[39m] \u001b[39m==\u001b[39m \u001b[39m'\u001b[39m\u001b[39m.\u001b[39m\u001b[39m'\u001b[39m: \u001b[39m# Skipping move numbers\u001b[39;00m\n\u001b[1;32m     56\u001b[0m             \u001b[39mcontinue\u001b[39;00m\n\u001b[0;32m---> 57\u001b[0m         board\u001b[39m.\u001b[39;49mpush_san(move)\n\u001b[1;32m     59\u001b[0m \u001b[39mprint\u001b[39m(board\u001b[39m.\u001b[39mfen())\n\u001b[1;32m     60\u001b[0m \u001b[39mprint\u001b[39m(board)\n",
      "File \u001b[0;32m~/anaconda3/envs/openai/lib/python3.10/site-packages/chess/__init__.py:3105\u001b[0m, in \u001b[0;36mBoard.push_san\u001b[0;34m(self, san)\u001b[0m\n\u001b[1;32m   3091\u001b[0m \u001b[39mdef\u001b[39;00m \u001b[39mpush_san\u001b[39m(\u001b[39mself\u001b[39m, san: \u001b[39mstr\u001b[39m) \u001b[39m-\u001b[39m\u001b[39m>\u001b[39m Move:\n\u001b[1;32m   3092\u001b[0m \u001b[39m    \u001b[39m\u001b[39m\"\"\"\u001b[39;00m\n\u001b[1;32m   3093\u001b[0m \u001b[39m    Parses a move in standard algebraic notation, makes the move and puts\u001b[39;00m\n\u001b[1;32m   3094\u001b[0m \u001b[39m    it onto the move stack.\u001b[39;00m\n\u001b[0;32m   (...)\u001b[0m\n\u001b[1;32m   3103\u001b[0m \u001b[39m        - :exc:`AmbiguousMoveError` if the SAN is ambiguous.\u001b[39;00m\n\u001b[1;32m   3104\u001b[0m \u001b[39m    \"\"\"\u001b[39;00m\n\u001b[0;32m-> 3105\u001b[0m     move \u001b[39m=\u001b[39m \u001b[39mself\u001b[39;49m\u001b[39m.\u001b[39;49mparse_san(san)\n\u001b[1;32m   3106\u001b[0m     \u001b[39mself\u001b[39m\u001b[39m.\u001b[39mpush(move)\n\u001b[1;32m   3107\u001b[0m     \u001b[39mreturn\u001b[39;00m move\n",
      "File \u001b[0;32m~/anaconda3/envs/openai/lib/python3.10/site-packages/chess/__init__.py:3087\u001b[0m, in \u001b[0;36mBoard.parse_san\u001b[0;34m(self, san)\u001b[0m\n\u001b[1;32m   3084\u001b[0m     matched_move \u001b[39m=\u001b[39m move\n\u001b[1;32m   3086\u001b[0m \u001b[39mif\u001b[39;00m \u001b[39mnot\u001b[39;00m matched_move:\n\u001b[0;32m-> 3087\u001b[0m     \u001b[39mraise\u001b[39;00m IllegalMoveError(\u001b[39mf\u001b[39m\u001b[39m\"\u001b[39m\u001b[39millegal san: \u001b[39m\u001b[39m{\u001b[39;00msan\u001b[39m!r}\u001b[39;00m\u001b[39m in \u001b[39m\u001b[39m{\u001b[39;00m\u001b[39mself\u001b[39m\u001b[39m.\u001b[39mfen()\u001b[39m}\u001b[39;00m\u001b[39m\"\u001b[39m)\n\u001b[1;32m   3089\u001b[0m \u001b[39mreturn\u001b[39;00m matched_move\n",
      "\u001b[0;31mIllegalMoveError\u001b[0m: illegal san: 'Nxc7' in 6b1/7p/6p1/R2rkp2/4p3/1N5P/1P3PP1/6K1 w - - 7 30"
     ]
    }
   ],
   "source": [
    "import chess\n",
    "\n",
    "moves_string = \"\"\"1. e4 e5\n",
    "2. Nf3 Nf6\n",
    "3. Nxe5 Qe7\n",
    "4. d4 c6\n",
    "5. Nc3 d6\n",
    "6. Nf3 Nxe4\n",
    "7. Nxe4 d5\n",
    "8. Be2 dxe4\n",
    "9. Nd2 f5\n",
    "10. O-O g6\n",
    "11. c4 Na6\n",
    "12. Nb3 Be6\n",
    "13. d5 Rd8\n",
    "14. Qd4 Bg7\n",
    "15. Qxa7 cxd5\n",
    "16. cxd5 Bxd5\n",
    "17. Bxa6 bxa6\n",
    "18. Qxa6 Be5\n",
    "19. Qb5+ Kf7\n",
    "20. Rd1 Qe8\n",
    "21. Qxe8+ Rhxe8\n",
    "22. Bg5 Bf6\n",
    "23. Bxf6 Kxf6\n",
    "24. Nc5 Bxa2\n",
    "25. Rxd8 Rxd8\n",
    "26. h3 Bg8\n",
    "27. Ra6+ Ke5\n",
    "28. Ra5 Rd4\n",
    "29. Nb3+ Rd5\n",
    "30. Rxd5+ Bxd5\n",
    "31. Nd2 g5\n",
    "32. Kf1 h6\n",
    "33. Ke2 Kd4\n",
    "34. g3 h5\n",
    "35. h4 gxh4\n",
    "36. gxh4 Ba2\n",
    "37. Nf1 f4\n",
    "38. Nd2 Bf7\n",
    "39. Nf1 Bc4+\n",
    "40. Ke1 Bxf1\n",
    "41. Kxf1 Kc4\n",
    "42. Ke2 Kb3\"\"\"\n",
    "\n",
    "# Initializing a board\n",
    "board = chess.Board()\n",
    "\n",
    "# Splitting the moves and iterating through them\n",
    "for move_pair in moves_string.strip().split(\"\\n\"):\n",
    "    # Splitting the string on spaces to get individual moves\n",
    "    moves = move_pair.split()\n",
    "    # Ignoring the move number\n",
    "    for move in moves[1:]:\n",
    "        if move[-1] == '.': # Skipping move numbers\n",
    "            continue\n",
    "        board.push_san(move)\n",
    "\n",
    "print(board.fen())\n",
    "print(board)\n"
   ]
  }
 ],
 "metadata": {
  "kernelspec": {
   "display_name": "openai",
   "language": "python",
   "name": "python3"
  },
  "language_info": {
   "codemirror_mode": {
    "name": "ipython",
    "version": 3
   },
   "file_extension": ".py",
   "mimetype": "text/x-python",
   "name": "python",
   "nbconvert_exporter": "python",
   "pygments_lexer": "ipython3",
   "version": "3.10.13"
  },
  "orig_nbformat": 4
 },
 "nbformat": 4,
 "nbformat_minor": 2
}
