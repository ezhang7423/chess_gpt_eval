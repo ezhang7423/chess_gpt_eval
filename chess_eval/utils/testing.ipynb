{
 "cells": [
  {
   "cell_type": "code",
   "execution_count": 11,
   "metadata": {},
   "outputs": [
    {
     "name": "stdout",
     "output_type": "stream",
     "text": [
      "<LegalMoveGenerator at 0x10e57e170 (Nh3, Nf3, Nc3, Na3, h3, g3, f3, e3, d3, c3, b3, a3, h4, g4, f4, e4, d4, c4, b4, a4)>\n",
      "e2e4\n",
      "c7c5\n"
     ]
    }
   ],
   "source": [
    "import openai\n",
    "import chess\n",
    "import chess.engine\n",
    "\n",
    "with chess.engine.SimpleEngine.popen_uci(\"stockfish\") as engine:\n",
    "    engine.configure({\"Skill Level\": 10})  # range is 0-20\n",
    "\n",
    "    board = chess.Board()\n",
    "    print(board.legal_moves)\n",
    "\n",
    "    move_san = \"e4\"\n",
    "    move_uci = board.parse_san(move_san)\n",
    "\n",
    "    print(move_uci)\n",
    "    game_state = \"1.\"\n",
    "    # Check if the move is legal\n",
    "    if move_uci in board.legal_moves:\n",
    "        board.push(move_uci)  # Apply UCI move to the board\n",
    "        game_state += \"\\n\" + move_san  # Add SAN move to game_state\n",
    "\n",
    "        # Get move from the chess engine (UCI)\n",
    "        result = engine.play(board, chess.engine.Limit(time=0.1))\n",
    "        # Add engine's move (in SAN format) to game_state\n",
    "        game_state += board.san(result.move)\n",
    "        board.push(result.move)\n",
    "\n",
    "        print(result.move)\n",
    "        # print(\"B\", board.san(result.move))\n",
    "\n",
    "        "
   ]
  },
  {
   "cell_type": "code",
   "execution_count": 14,
   "metadata": {},
   "outputs": [
    {
     "ename": "AttributeError",
     "evalue": "'str' object has no attribute 'drop'",
     "output_type": "error",
     "traceback": [
      "\u001b[0;31m---------------------------------------------------------------------------\u001b[0m",
      "\u001b[0;31mAttributeError\u001b[0m                            Traceback (most recent call last)",
      "Cell \u001b[0;32mIn[14], line 1\u001b[0m\n\u001b[0;32m----> 1\u001b[0m \u001b[39mprint\u001b[39m(\u001b[39m\"\u001b[39;49m\u001b[39me4\u001b[39;49m\u001b[39m\"\u001b[39;49m \u001b[39min\u001b[39;49;00m board\u001b[39m.\u001b[39;49mlegal_moves)\n",
      "File \u001b[0;32m~/anaconda3/envs/openai/lib/python3.10/site-packages/chess/__init__.py:3832\u001b[0m, in \u001b[0;36mLegalMoveGenerator.__contains__\u001b[0;34m(self, move)\u001b[0m\n\u001b[1;32m   3831\u001b[0m \u001b[39mdef\u001b[39;00m \u001b[39m__contains__\u001b[39m(\u001b[39mself\u001b[39m, move: Move) \u001b[39m-\u001b[39m\u001b[39m>\u001b[39m \u001b[39mbool\u001b[39m:\n\u001b[0;32m-> 3832\u001b[0m     \u001b[39mreturn\u001b[39;00m \u001b[39mself\u001b[39;49m\u001b[39m.\u001b[39;49mboard\u001b[39m.\u001b[39;49mis_legal(move)\n",
      "File \u001b[0;32m~/anaconda3/envs/openai/lib/python3.10/site-packages/chess/__init__.py:1886\u001b[0m, in \u001b[0;36mBoard.is_legal\u001b[0;34m(self, move)\u001b[0m\n\u001b[1;32m   1885\u001b[0m \u001b[39mdef\u001b[39;00m \u001b[39mis_legal\u001b[39m(\u001b[39mself\u001b[39m, move: Move) \u001b[39m-\u001b[39m\u001b[39m>\u001b[39m \u001b[39mbool\u001b[39m:\n\u001b[0;32m-> 1886\u001b[0m     \u001b[39mreturn\u001b[39;00m \u001b[39mnot\u001b[39;00m \u001b[39mself\u001b[39m\u001b[39m.\u001b[39mis_variant_end() \u001b[39mand\u001b[39;00m \u001b[39mself\u001b[39;49m\u001b[39m.\u001b[39;49mis_pseudo_legal(move) \u001b[39mand\u001b[39;00m \u001b[39mnot\u001b[39;00m \u001b[39mself\u001b[39m\u001b[39m.\u001b[39mis_into_check(move)\n",
      "File \u001b[0;32m~/anaconda3/envs/openai/lib/python3.10/site-packages/chess/__init__.py:1842\u001b[0m, in \u001b[0;36mBoard.is_pseudo_legal\u001b[0;34m(self, move)\u001b[0m\n\u001b[1;32m   1839\u001b[0m     \u001b[39mreturn\u001b[39;00m \u001b[39mFalse\u001b[39;00m\n\u001b[1;32m   1841\u001b[0m \u001b[39m# Drops are not pseudo-legal.\u001b[39;00m\n\u001b[0;32m-> 1842\u001b[0m \u001b[39mif\u001b[39;00m move\u001b[39m.\u001b[39;49mdrop:\n\u001b[1;32m   1843\u001b[0m     \u001b[39mreturn\u001b[39;00m \u001b[39mFalse\u001b[39;00m\n\u001b[1;32m   1845\u001b[0m \u001b[39m# Source square must not be vacant.\u001b[39;00m\n",
      "\u001b[0;31mAttributeError\u001b[0m: 'str' object has no attribute 'drop'"
     ]
    }
   ],
   "source": [
    "print(\"e4\" in board.legal_moves)"
   ]
  },
  {
   "cell_type": "code",
   "execution_count": 12,
   "metadata": {},
   "outputs": [
    {
     "name": "stdout",
     "output_type": "stream",
     "text": [
      "1.\n",
      "e4c5\n",
      "r n b q k b n r\n",
      "p p . p p p p p\n",
      ". . . . . . . .\n",
      ". . p . . . . .\n",
      ". . . . P . . .\n",
      ". . . . . . . .\n",
      "P P P P . P P P\n",
      "R N B Q K B N R\n"
     ]
    }
   ],
   "source": [
    "print(game_state)\n",
    "print(board)"
   ]
  }
 ],
 "metadata": {
  "kernelspec": {
   "display_name": "openai",
   "language": "python",
   "name": "python3"
  },
  "language_info": {
   "codemirror_mode": {
    "name": "ipython",
    "version": 3
   },
   "file_extension": ".py",
   "mimetype": "text/x-python",
   "name": "python",
   "nbconvert_exporter": "python",
   "pygments_lexer": "ipython3",
   "version": "3.10.13"
  },
  "orig_nbformat": 4
 },
 "nbformat": 4,
 "nbformat_minor": 2
}
